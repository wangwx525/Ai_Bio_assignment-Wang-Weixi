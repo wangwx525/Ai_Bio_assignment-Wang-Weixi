{
 "cells": [
  {
   "cell_type": "code",
   "execution_count": null,
   "metadata": {},
   "outputs": [],
   "source": []
  },
  {
   "cell_type": "code",
   "execution_count": 15,
   "metadata": {},
   "outputs": [],
   "source": [
    "m = [0]\n",
    "v = [0]\n",
    "m_ = [0]\n",
    "v_ = [0]\n",
    "b1 = 0.9\n",
    "b2 = 0.999\n",
    "a = 0.3\n",
    "t = 0\n",
    "theta = [0]"
   ]
  },
  {
   "cell_type": "code",
   "execution_count": 50,
   "metadata": {},
   "outputs": [],
   "source": [
    "t = t + 1\n",
    "if(theta[-1]<1):\n",
    "    g = -1\n",
    "else: g = 1\n",
    "m.append(b1 * m[-1] + (1 - b1) * g)\n",
    "v.append(b2 * v[-1] + (1 - b2) * (g**2))\n",
    "m_.append(m[-1] / (1 - b1**t))\n",
    "v_.append(v[-1] / (1 - b2**t))\n",
    "theta.append(theta[-1] - a * m_[-1] * (v_[-1]**0.5))"
   ]
  },
  {
   "cell_type": "code",
   "execution_count": 51,
   "metadata": {},
   "outputs": [
    {
     "data": {
      "text/plain": [
       "[0,\n",
       " 0.3,\n",
       " 0.6000000000000021,\n",
       " 0.9000000000000021,\n",
       " 1.2000000000000035,\n",
       " 1.35348343141804,\n",
       " 1.4101842951299737,\n",
       " 1.3985127716140122,\n",
       " 1.3362158088702167,\n",
       " 1.2351152242311723,\n",
       " 1.1034768180909487,\n",
       " 0.9473026798481269,\n",
       " 0.8547005754938964,\n",
       " 0.8147392651127069,\n",
       " 0.818858241483421,\n",
       " 0.8602367216309588,\n",
       " 0.9333596673163354,\n",
       " 1.033711295245375,\n",
       " 1.0869574871393164,\n",
       " 1.0993619475282335,\n",
       " 1.0762021823052612]"
      ]
     },
     "execution_count": 51,
     "metadata": {},
     "output_type": "execute_result"
    }
   ],
   "source": [
    "theta"
   ]
  },
  {
   "cell_type": "code",
   "execution_count": 32,
   "metadata": {},
   "outputs": [
    {
     "data": {
      "text/plain": [
       "[0,\n",
       " -0.09999999999999998,\n",
       " -0.18999999999999995,\n",
       " -0.2709999999999999,\n",
       " -0.3438999999999999,\n",
       " -0.20950999999999992,\n",
       " -0.08855899999999994,\n",
       " 0.02029690000000002,\n",
       " 0.11826721]"
      ]
     },
     "execution_count": 32,
     "metadata": {},
     "output_type": "execute_result"
    }
   ],
   "source": [
    "m"
   ]
  },
  {
   "cell_type": "code",
   "execution_count": 33,
   "metadata": {},
   "outputs": [
    {
     "data": {
      "text/plain": [
       "[0,\n",
       " 0.0010000000000000009,\n",
       " 0.0019990000000000016,\n",
       " 0.0029970010000000026,\n",
       " 0.003994003999000004,\n",
       " 0.0049900099950010044,\n",
       " 0.005985019985006004,\n",
       " 0.006979034965020999,\n",
       " 0.007972055930055979]"
      ]
     },
     "execution_count": 33,
     "metadata": {},
     "output_type": "execute_result"
    }
   ],
   "source": [
    "v"
   ]
  },
  {
   "cell_type": "code",
   "execution_count": 14,
   "metadata": {},
   "outputs": [
    {
     "data": {
      "text/plain": [
       "3"
      ]
     },
     "execution_count": 14,
     "metadata": {},
     "output_type": "execute_result"
    }
   ],
   "source": [
    "t"
   ]
  },
  {
   "cell_type": "code",
   "execution_count": null,
   "metadata": {},
   "outputs": [],
   "source": []
  }
 ],
 "metadata": {
  "kernelspec": {
   "display_name": "Python 3",
   "language": "python",
   "name": "python3"
  },
  "language_info": {
   "codemirror_mode": {
    "name": "ipython",
    "version": 3
   },
   "file_extension": ".py",
   "mimetype": "text/x-python",
   "name": "python",
   "nbconvert_exporter": "python",
   "pygments_lexer": "ipython3",
   "version": "3.8.5"
  }
 },
 "nbformat": 4,
 "nbformat_minor": 4
}
