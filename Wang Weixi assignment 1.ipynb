{
 "cells": [
  {
   "cell_type": "code",
   "execution_count": 1,
   "metadata": {},
   "outputs": [],
   "source": [
    "import torch\n",
    "import numpy as np"
   ]
  },
  {
   "cell_type": "code",
   "execution_count": 2,
   "metadata": {},
   "outputs": [],
   "source": [
    "w1 = torch.randn([10, 2],requires_grad=True)\n",
    "b1 = torch.randn(10,requires_grad=True)\n",
    "w2 = torch.randn([10, 10],requires_grad=True)\n",
    "b2 = torch.randn(10,requires_grad=True)\n",
    "w3 = torch.randn([1, 10],requires_grad=True)\n",
    "b3 = torch.randn(1,requires_grad=True)"
   ]
  },
  {
   "cell_type": "markdown",
   "metadata": {},
   "source": [
    "# auto"
   ]
  },
  {
   "cell_type": "code",
   "execution_count": 3,
   "metadata": {},
   "outputs": [
    {
     "data": {
      "text/plain": [
       "tensor([ 1.0458, -0.5822])"
      ]
     },
     "execution_count": 3,
     "metadata": {},
     "output_type": "execute_result"
    }
   ],
   "source": [
    "x = torch.randn(2)\n",
    "x"
   ]
  },
  {
   "cell_type": "code",
   "execution_count": 4,
   "metadata": {},
   "outputs": [
    {
     "data": {
      "text/plain": [
       "tensor([ 1.0458, -0.5822], requires_grad=True)"
      ]
     },
     "execution_count": 4,
     "metadata": {},
     "output_type": "execute_result"
    }
   ],
   "source": [
    "x.requires_grad_(True)\n",
    "x"
   ]
  },
  {
   "cell_type": "code",
   "execution_count": 5,
   "metadata": {},
   "outputs": [
    {
     "data": {
      "text/plain": [
       "tensor(0.7163, grad_fn=<DivBackward0>)"
      ]
     },
     "execution_count": 5,
     "metadata": {},
     "output_type": "execute_result"
    }
   ],
   "source": [
    "y = (x[0]**2 + x[1]**2) / 2\n",
    "y"
   ]
  },
  {
   "cell_type": "code",
   "execution_count": 6,
   "metadata": {},
   "outputs": [
    {
     "data": {
      "text/plain": [
       "tensor([0.8695], grad_fn=<AddBackward0>)"
      ]
     },
     "execution_count": 6,
     "metadata": {},
     "output_type": "execute_result"
    }
   ],
   "source": [
    "h1 = torch.matmul(w1, x) + b1\n",
    "h1_activate = torch.sigmoid(h1)\n",
    "h2 = torch.matmul(w2, h1_activate) + b2\n",
    "h2_activate = torch.sigmoid(h2)\n",
    "pred = torch.matmul(w3, h2_activate) + b3\n",
    "pred"
   ]
  },
  {
   "cell_type": "code",
   "execution_count": 7,
   "metadata": {},
   "outputs": [
    {
     "data": {
      "text/plain": [
       "tensor([ 1.3654,  1.6386,  0.1854, -1.4092,  0.3450,  0.1500, -1.5090,  1.5910,\n",
       "        -0.1537,  0.5695], grad_fn=<AddBackward0>)"
      ]
     },
     "execution_count": 7,
     "metadata": {},
     "output_type": "execute_result"
    }
   ],
   "source": [
    "h1"
   ]
  },
  {
   "cell_type": "code",
   "execution_count": 8,
   "metadata": {},
   "outputs": [
    {
     "data": {
      "text/plain": [
       "tensor([0.7966, 0.8373, 0.5462, 0.1964, 0.5854, 0.5374, 0.1811, 0.8308, 0.4616,\n",
       "        0.6386], grad_fn=<SigmoidBackward>)"
      ]
     },
     "execution_count": 8,
     "metadata": {},
     "output_type": "execute_result"
    }
   ],
   "source": [
    "h1_activate"
   ]
  },
  {
   "cell_type": "code",
   "execution_count": 9,
   "metadata": {},
   "outputs": [
    {
     "data": {
      "text/plain": [
       "tensor([0.0235], grad_fn=<PowBackward0>)"
      ]
     },
     "execution_count": 9,
     "metadata": {},
     "output_type": "execute_result"
    }
   ],
   "source": [
    "loss = (pred-y)**2\n",
    "loss"
   ]
  },
  {
   "cell_type": "code",
   "execution_count": 10,
   "metadata": {},
   "outputs": [],
   "source": [
    "loss.backward()"
   ]
  },
  {
   "cell_type": "code",
   "execution_count": 11,
   "metadata": {
    "scrolled": false
   },
   "outputs": [
    {
     "name": "stdout",
     "output_type": "stream",
     "text": [
      "tensor([[ 0.0130, -0.0072],\n",
      "        [ 0.0206, -0.0115],\n",
      "        [-0.0067,  0.0037],\n",
      "        [ 0.0366, -0.0204],\n",
      "        [-0.0357,  0.0199],\n",
      "        [-0.1249,  0.0695],\n",
      "        [-0.0142,  0.0079],\n",
      "        [-0.0370,  0.0206],\n",
      "        [ 0.0668, -0.0372],\n",
      "        [ 0.0099, -0.0055]])\n",
      "tensor([ 0.0124,  0.0197, -0.0064,  0.0350, -0.0341, -0.1194, -0.0136, -0.0354,\n",
      "         0.0638,  0.0094])\n",
      "tensor([[ 0.0137,  0.0144,  0.0094,  0.0034,  0.0100,  0.0092,  0.0031,  0.0142,\n",
      "          0.0079,  0.0109],\n",
      "        [ 0.1502,  0.1578,  0.1030,  0.0370,  0.1104,  0.1013,  0.0341,  0.1566,\n",
      "          0.0870,  0.1204],\n",
      "        [ 0.0034,  0.0035,  0.0023,  0.0008,  0.0025,  0.0023,  0.0008,  0.0035,\n",
      "          0.0019,  0.0027],\n",
      "        [-0.0183, -0.0192, -0.0125, -0.0045, -0.0134, -0.0123, -0.0042, -0.0191,\n",
      "         -0.0106, -0.0147],\n",
      "        [ 0.0028,  0.0029,  0.0019,  0.0007,  0.0020,  0.0019,  0.0006,  0.0029,\n",
      "          0.0016,  0.0022],\n",
      "        [-0.0827, -0.0870, -0.0567, -0.0204, -0.0608, -0.0558, -0.0188, -0.0863,\n",
      "         -0.0479, -0.0663],\n",
      "        [-0.0277, -0.0291, -0.0190, -0.0068, -0.0203, -0.0187, -0.0063, -0.0288,\n",
      "         -0.0160, -0.0222],\n",
      "        [-0.0009, -0.0010, -0.0006, -0.0002, -0.0007, -0.0006, -0.0002, -0.0010,\n",
      "         -0.0005, -0.0008],\n",
      "        [-0.0624, -0.0656, -0.0428, -0.0154, -0.0459, -0.0421, -0.0142, -0.0651,\n",
      "         -0.0362, -0.0500],\n",
      "        [ 0.0128,  0.0135,  0.0088,  0.0032,  0.0094,  0.0087,  0.0029,  0.0134,\n",
      "          0.0074,  0.0103]])\n",
      "tensor([ 0.0171,  0.1885,  0.0042, -0.0230,  0.0035, -0.1039, -0.0347, -0.0012,\n",
      "        -0.0784,  0.0161])\n",
      "tensor([[0.1578, 0.1937, 0.2649, 0.1951, 0.1549, 0.1665, 0.2700, 0.0085, 0.0736,\n",
      "         0.2877]])\n",
      "tensor([0.3064])\n"
     ]
    }
   ],
   "source": [
    "print(w1.grad)\n",
    "print(b1.grad)\n",
    "print(w2.grad)\n",
    "print(b2.grad)\n",
    "print(w3.grad)\n",
    "print(b3.grad)"
   ]
  },
  {
   "cell_type": "code",
   "execution_count": null,
   "metadata": {},
   "outputs": [],
   "source": []
  },
  {
   "cell_type": "markdown",
   "metadata": {},
   "source": [
    "# my"
   ]
  },
  {
   "cell_type": "code",
   "execution_count": 12,
   "metadata": {},
   "outputs": [],
   "source": [
    "def sigmoid_prime(z):\n",
    "  return sigmoid(z) * (1-sigmoid(z))\n",
    "def sigmoid(z):\n",
    "  return 1.0/(1.0 + np.exp(-z))"
   ]
  },
  {
   "cell_type": "code",
   "execution_count": 13,
   "metadata": {},
   "outputs": [],
   "source": [
    "w_list = [w1.detach().numpy(), w2.detach().numpy(), w3.detach().numpy()]\n",
    "b_list = [b1.detach().numpy(), b2.detach().numpy(), b3.detach().numpy()]"
   ]
  },
  {
   "cell_type": "code",
   "execution_count": 14,
   "metadata": {
    "scrolled": true
   },
   "outputs": [
    {
     "data": {
      "text/plain": [
       "[array([[ 0.11520769, -1.4604033 ],\n",
       "        [ 1.2982341 ,  0.17773491],\n",
       "        [-0.7639063 , -1.7555146 ],\n",
       "        [-0.85020703, -0.79943573],\n",
       "        [ 0.5389087 , -0.50550324],\n",
       "        [-0.14215304,  1.4952424 ],\n",
       "        [-0.86971295,  0.13324322],\n",
       "        [ 0.9634977 , -1.4129666 ],\n",
       "        [ 0.65819687,  0.7188048 ],\n",
       "        [ 0.51375353,  0.857849  ]], dtype=float32),\n",
       " array([[ 8.95909131e-01,  5.83758175e-01, -1.11530709e+00,\n",
       "          8.15845355e-02, -2.65208054e+00, -7.04577863e-01,\n",
       "         -8.36997852e-02,  7.07591236e-01,  2.41884303e+00,\n",
       "          7.34549105e-01],\n",
       "        [ 7.22644687e-01,  3.75827223e-01,  3.56234938e-01,\n",
       "          4.51898962e-01, -1.11085856e+00, -1.76100695e+00,\n",
       "          1.31211802e-01, -1.31856549e+00,  2.20971918e+00,\n",
       "          9.56653476e-01],\n",
       "        [-2.45880708e-01,  2.22406411e+00,  4.28827614e-01,\n",
       "         -3.10494423e-01,  7.36873746e-02, -2.87312686e-01,\n",
       "         -2.65449500e+00,  8.57233763e-01,  2.65988439e-01,\n",
       "          1.12840936e-01],\n",
       "        [-1.22219908e+00,  1.33713329e+00,  4.43591505e-01,\n",
       "         -1.63108289e+00,  6.85643792e-01, -2.01930515e-02,\n",
       "         -4.97404069e-01, -2.13744551e-01, -1.44743562e-01,\n",
       "         -8.70894074e-01],\n",
       "        [ 7.12373853e-01, -1.27980614e+00,  8.56572762e-02,\n",
       "          2.51266152e-01,  1.25184405e+00,  1.80299461e+00,\n",
       "          3.09598774e-01,  5.57222520e-04, -2.60545564e+00,\n",
       "         -3.65073055e-01],\n",
       "        [ 6.02906384e-02, -7.08838165e-01,  4.35192943e-01,\n",
       "         -1.05453098e+00, -3.37776273e-01,  1.24775302e+00,\n",
       "          2.53102899e-01,  5.20215988e-01,  2.13930917e+00,\n",
       "          4.32332069e-01],\n",
       "        [ 1.81919622e+00,  4.55399454e-02, -8.09526682e-01,\n",
       "         -8.88142884e-02,  2.00272465e+00, -1.32985616e+00,\n",
       "          2.09923744e+00,  4.46192324e-01, -5.14224887e-01,\n",
       "          5.31800687e-01],\n",
       "        [-2.55108234e-02, -5.09976387e-01, -2.24833518e-01,\n",
       "         -1.62041843e+00,  5.31774402e-01, -9.78146434e-01,\n",
       "         -5.80034852e-01, -4.56263751e-01, -4.14692760e-01,\n",
       "          1.40167162e-01],\n",
       "        [ 3.91226381e-01, -5.63766509e-02,  6.43126428e-01,\n",
       "          4.49395031e-01, -1.89264905e+00,  8.25462580e-01,\n",
       "          1.68620706e-01, -7.47776508e-01, -1.59991503e-01,\n",
       "          1.18753827e+00],\n",
       "        [-2.68369317e-01,  7.70994723e-01,  9.90661979e-02,\n",
       "          1.17112088e+00,  7.57902920e-01,  3.10413271e-01,\n",
       "         -2.69504935e-01, -8.45278740e-01, -3.17735881e-01,\n",
       "         -9.07136977e-01]], dtype=float32),\n",
       " array([[ 0.22399995,  2.6457639 ,  0.1174756 , -0.3240957 ,  0.04563133,\n",
       "         -1.3664031 , -1.0817813 , -0.14444327, -1.4007372 ,  0.9183374 ]],\n",
       "       dtype=float32)]"
      ]
     },
     "execution_count": 14,
     "metadata": {},
     "output_type": "execute_result"
    }
   ],
   "source": [
    "w_list"
   ]
  },
  {
   "cell_type": "code",
   "execution_count": 15,
   "metadata": {},
   "outputs": [],
   "source": [
    "x = x.detach().numpy()\n",
    "y = y.detach().numpy()"
   ]
  },
  {
   "cell_type": "code",
   "execution_count": 16,
   "metadata": {},
   "outputs": [],
   "source": [
    "# grad list\n",
    "nabla_b = [np.zeros(b.shape) for b in b_list]\n",
    "nabla_w = [np.zeros(w.shape) for w in w_list]\n"
   ]
  },
  {
   "cell_type": "code",
   "execution_count": 17,
   "metadata": {},
   "outputs": [
    {
     "data": {
      "text/plain": [
       "array([0.8694965], dtype=float32)"
      ]
     },
     "execution_count": 17,
     "metadata": {},
     "output_type": "execute_result"
    }
   ],
   "source": [
    "# forward propagation\n",
    "z1 = np.dot(w_list[0], x) + b_list[0]\n",
    "z1_act = sigmoid(z1)\n",
    "z2 = np.dot(w_list[1], z1_act) + b_list[1]\n",
    "z2_act = sigmoid(z2)\n",
    "z3 = np.dot(w_list[2], z2_act) + b_list[2]\n",
    "z3"
   ]
  },
  {
   "cell_type": "code",
   "execution_count": 18,
   "metadata": {},
   "outputs": [],
   "source": [
    "# grad for last layer\n",
    "loss = (z3 - y)**2\n",
    "delta = 2 * (z3 - y)\n",
    "nabla_b[-1] = delta\n",
    "nabla_w[-1] = np.dot(delta, z2_act.transpose().reshape((1,10)))"
   ]
  },
  {
   "cell_type": "code",
   "execution_count": 19,
   "metadata": {},
   "outputs": [
    {
     "data": {
      "text/plain": [
       "(1, 10)"
      ]
     },
     "execution_count": 19,
     "metadata": {},
     "output_type": "execute_result"
    }
   ],
   "source": [
    "w_list[-2+1].shape"
   ]
  },
  {
   "cell_type": "code",
   "execution_count": 20,
   "metadata": {},
   "outputs": [],
   "source": [
    "# grad for second layer\n",
    "delta = np.dot(w_list[-2+1].transpose(), delta) * sigmoid_prime(z2)\n",
    "nabla_b[-2] = delta\n",
    "nabla_w[-2] = np.dot(delta.reshape((10,1)), z1_act.transpose().reshape((1, 10)))"
   ]
  },
  {
   "cell_type": "code",
   "execution_count": 21,
   "metadata": {},
   "outputs": [],
   "source": [
    "# grad for first layer\n",
    "delta = np.dot(w_list[-3+1].transpose(), delta) * sigmoid_prime(z1)\n",
    "nabla_b[-3] = delta\n",
    "nabla_w[-3] = np.dot(delta.reshape((10, 1)), x.transpose().reshape((1, 2)))"
   ]
  },
  {
   "cell_type": "code",
   "execution_count": 22,
   "metadata": {},
   "outputs": [
    {
     "data": {
      "text/plain": [
       "[array([ 0.01242867,  0.01968558, -0.006363  ,  0.03499979, -0.03409869,\n",
       "        -0.11943121, -0.01355892, -0.03541619,  0.06384694,  0.00944304],\n",
       "       dtype=float32),\n",
       " array([ 0.01714191,  0.18849985,  0.0042168 , -0.02296408,  0.00349468,\n",
       "        -0.10386669, -0.03472225, -0.00118987, -0.07835759,  0.01610759],\n",
       "       dtype=float32),\n",
       " array([0.30638027], dtype=float32)]"
      ]
     },
     "execution_count": 22,
     "metadata": {},
     "output_type": "execute_result"
    }
   ],
   "source": [
    "nabla_b"
   ]
  },
  {
   "cell_type": "code",
   "execution_count": 23,
   "metadata": {
    "scrolled": true
   },
   "outputs": [
    {
     "data": {
      "text/plain": [
       "[array([[ 0.01299736, -0.00723649],\n",
       "        [ 0.02058633, -0.01146177],\n",
       "        [-0.00665415,  0.0037048 ],\n",
       "        [ 0.03660127, -0.02037834],\n",
       "        [-0.03565894,  0.01985368],\n",
       "        [-0.124896  ,  0.06953783],\n",
       "        [-0.01417933,  0.00789457],\n",
       "        [-0.03703672,  0.02062078],\n",
       "        [ 0.06676837, -0.03717436],\n",
       "        [ 0.00987513, -0.00549813]], dtype=float32),\n",
       " array([[ 0.01365597,  0.0143537 ,  0.00936325,  0.00336589,  0.01003513,\n",
       "          0.00921245,  0.00310414,  0.01424084,  0.00791341,  0.01094763],\n",
       "        [ 0.15016699,  0.15783955,  0.10296238,  0.03701274,  0.11035067,\n",
       "          0.10130415,  0.03413443,  0.15659846,  0.0870193 ,  0.12038487],\n",
       "        [ 0.00335928,  0.00353092,  0.0023033 ,  0.00082799,  0.00246858,\n",
       "          0.0022662 ,  0.0007636 ,  0.00350315,  0.00194665,  0.00269305],\n",
       "        [-0.01829416, -0.01922888, -0.01254344, -0.00450909, -0.01344352,\n",
       "         -0.01234143, -0.00415844, -0.01907768, -0.01060117, -0.01466594],\n",
       "        [ 0.00278401,  0.00292625,  0.00190886,  0.00068619,  0.00204584,\n",
       "          0.00187812,  0.00063283,  0.00290325,  0.00161329,  0.00223187],\n",
       "        [-0.08274461, -0.08697233, -0.05673406, -0.02039466, -0.06080513,\n",
       "         -0.05582034, -0.01880866, -0.08628847, -0.04794915, -0.06633415],\n",
       "        [-0.02766122, -0.02907453, -0.01896599, -0.00681786, -0.02032693,\n",
       "         -0.01866053, -0.00628767, -0.02884592, -0.01602922, -0.02217526],\n",
       "        [-0.0009479 , -0.00099634, -0.00064993, -0.00023364, -0.00069657,\n",
       "         -0.00063947, -0.00021547, -0.0009885 , -0.00054929, -0.00075991],\n",
       "        [-0.06242299, -0.0656124 , -0.04280048, -0.01538584, -0.04587172,\n",
       "         -0.04211117, -0.01418936, -0.06509649, -0.03617309, -0.05004284],\n",
       "        [ 0.01283199,  0.01348762,  0.00879829,  0.00316279,  0.00942963,\n",
       "          0.00865659,  0.00291684,  0.01338157,  0.00743593,  0.01028707]],\n",
       "       dtype=float32),\n",
       " array([0.15777732, 0.1936732 , 0.2648578 , 0.19512312, 0.15494056,\n",
       "        0.16652502, 0.2699516 , 0.00847192, 0.07363999, 0.28770155],\n",
       "       dtype=float32)]"
      ]
     },
     "execution_count": 23,
     "metadata": {},
     "output_type": "execute_result"
    }
   ],
   "source": [
    "nabla_w"
   ]
  },
  {
   "cell_type": "code",
   "execution_count": null,
   "metadata": {},
   "outputs": [],
   "source": []
  },
  {
   "cell_type": "code",
   "execution_count": 24,
   "metadata": {},
   "outputs": [
    {
     "data": {
      "text/plain": [
       "tensor([[ 0.0130, -0.0072],\n",
       "        [ 0.0206, -0.0115],\n",
       "        [-0.0067,  0.0037],\n",
       "        [ 0.0366, -0.0204],\n",
       "        [-0.0357,  0.0199],\n",
       "        [-0.1249,  0.0695],\n",
       "        [-0.0142,  0.0079],\n",
       "        [-0.0370,  0.0206],\n",
       "        [ 0.0668, -0.0372],\n",
       "        [ 0.0099, -0.0055]])"
      ]
     },
     "execution_count": 24,
     "metadata": {},
     "output_type": "execute_result"
    }
   ],
   "source": [
    "w1.grad"
   ]
  },
  {
   "cell_type": "code",
   "execution_count": 25,
   "metadata": {},
   "outputs": [
    {
     "data": {
      "text/plain": [
       "array([[ 0.01299736, -0.00723649],\n",
       "       [ 0.02058633, -0.01146177],\n",
       "       [-0.00665415,  0.0037048 ],\n",
       "       [ 0.03660127, -0.02037834],\n",
       "       [-0.03565894,  0.01985368],\n",
       "       [-0.124896  ,  0.06953783],\n",
       "       [-0.01417933,  0.00789457],\n",
       "       [-0.03703672,  0.02062078],\n",
       "       [ 0.06676837, -0.03717436],\n",
       "       [ 0.00987513, -0.00549813]], dtype=float32)"
      ]
     },
     "execution_count": 25,
     "metadata": {},
     "output_type": "execute_result"
    }
   ],
   "source": [
    "nabla_w[0]"
   ]
  },
  {
   "cell_type": "code",
   "execution_count": null,
   "metadata": {},
   "outputs": [],
   "source": []
  },
  {
   "cell_type": "code",
   "execution_count": null,
   "metadata": {},
   "outputs": [],
   "source": []
  }
 ],
 "metadata": {
  "kernelspec": {
   "display_name": "Python 3",
   "language": "python",
   "name": "python3"
  },
  "language_info": {
   "codemirror_mode": {
    "name": "ipython",
    "version": 3
   },
   "file_extension": ".py",
   "mimetype": "text/x-python",
   "name": "python",
   "nbconvert_exporter": "python",
   "pygments_lexer": "ipython3",
   "version": "3.8.5"
  }
 },
 "nbformat": 4,
 "nbformat_minor": 4
}
